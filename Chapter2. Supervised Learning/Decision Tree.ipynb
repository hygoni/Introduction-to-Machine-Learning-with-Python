{
  "nbformat": 4,
  "nbformat_minor": 0,
  "metadata": {
    "colab": {
      "name": "Naive Bayes Classifier.ipynb",
      "provenance": [],
      "authorship_tag": "ABX9TyMOVdkiy4eSbW/VEStlWfmt",
      "include_colab_link": true
    },
    "kernelspec": {
      "name": "python3",
      "display_name": "Python 3"
    }
  },
  "cells": [
    {
      "cell_type": "markdown",
      "metadata": {
        "id": "view-in-github",
        "colab_type": "text"
      },
      "source": [
        "<a href=\"https://colab.research.google.com/github/hygoni/Introduction-to-Machine-Learning-with-Python/blob/master/Chapter2.%20Supervised%20Learning/Decision%20Tree.ipynb\" target=\"_parent\"><img src=\"https://colab.research.google.com/assets/colab-badge.svg\" alt=\"Open In Colab\"/></a>"
      ]
    },
    {
      "cell_type": "code",
      "metadata": {
        "id": "f414qiJREkyu",
        "colab_type": "code",
        "colab": {}
      },
      "source": [
        "from sklearn.tree import DecisionTreeClassifier\n",
        "from sklearn.datasets import load_breast_cancer\n",
        "from sklearn.model_selection import train_test_split"
      ],
      "execution_count": 3,
      "outputs": []
    },
    {
      "cell_type": "code",
      "metadata": {
        "id": "vYPKSphlR8yu",
        "colab_type": "code",
        "colab": {
          "base_uri": "https://localhost:8080/",
          "height": 34
        },
        "outputId": "ec726bf6-588e-4915-d3e4-40fe5eb0fc8f"
      },
      "source": [
        "cancer = load_breast_cancer()\n",
        "print(cancer.keys())"
      ],
      "execution_count": 4,
      "outputs": [
        {
          "output_type": "stream",
          "text": [
            "dict_keys(['data', 'target', 'target_names', 'DESCR', 'feature_names', 'filename'])\n"
          ],
          "name": "stdout"
        }
      ]
    },
    {
      "cell_type": "code",
      "metadata": {
        "id": "h7jz6arIR-tv",
        "colab_type": "code",
        "colab": {}
      },
      "source": [
        "from random import randint\n",
        "X_train, X_test, y_train, y_test = train_test_split(cancer['data'], cancer['target'], \\\n",
        "                                        random_state = randint(1, 1000), stratify = cancer['target'], test_size = 0.3)"
      ],
      "execution_count": 9,
      "outputs": []
    },
    {
      "cell_type": "markdown",
      "metadata": {
        "id": "7ZZaml4yTc2D",
        "colab_type": "text"
      },
      "source": [
        "### 모델 학습"
      ]
    },
    {
      "cell_type": "code",
      "metadata": {
        "id": "AY4CXAC0SPZ6",
        "colab_type": "code",
        "colab": {
          "base_uri": "https://localhost:8080/",
          "height": 136
        },
        "outputId": "59389df3-cea8-4fed-b6bf-8b0d3f583796"
      },
      "source": [
        "best_tree = 0\n",
        "best_depth = 0\n",
        "max_test_score = 0\n",
        "for max_depth in range(1, 100):\n",
        "    tree = DecisionTreeClassifier(max_depth = max_depth).fit(X_train, y_train)\n",
        "    test = tree.score(X_test, y_test)\n",
        "    train = tree.score(X_train, y_train)\n",
        "    if test > max_test_score:\n",
        "        max_test_score = test\n",
        "        best_depth = max_depth\n",
        "        best_tree = tree\n",
        "\n",
        "tree = best_tree\n",
        "print('Decision Tree')\n",
        "print('Train Accuracy')\n",
        "print(tree.score(X_train, y_train))\n",
        "print('Test Accuracy')\n",
        "print(tree.score(X_test, y_test))\n",
        "print('Best max_depth')\n",
        "print(best_depth)"
      ],
      "execution_count": 12,
      "outputs": [
        {
          "output_type": "stream",
          "text": [
            "Decision Tree\n",
            "Train Accuracy\n",
            "0.9899497487437185\n",
            "Test Accuracy\n",
            "0.9298245614035088\n",
            "Best max_depth\n",
            "5\n"
          ],
          "name": "stdout"
        }
      ]
    },
    {
      "cell_type": "markdown",
      "metadata": {
        "id": "YYaO2N_TTg6Z",
        "colab_type": "text"
      },
      "source": [
        "### 시각화"
      ]
    },
    {
      "cell_type": "code",
      "metadata": {
        "id": "hxewKdUTTfzk",
        "colab_type": "code",
        "colab": {
          "base_uri": "https://localhost:8080/",
          "height": 816
        },
        "outputId": "1a5f9a8c-0e01-406a-bfe2-68307e797687"
      },
      "source": [
        "# 결정트리 시각화\n",
        "\n",
        "from sklearn.tree import export_graphviz\n",
        "import graphviz\n",
        "\n",
        "export_graphviz(tree, out_file = 'tree.dot', class_names = ['악성', '양성'],\n",
        "                feature_names = cancer.feature_names, impurity=False, filled=True)\n",
        "\n",
        "with open('tree.dot') as f:\n",
        "    graph = f.read()\n",
        "display(graphviz.Source(graph))"
      ],
      "execution_count": 14,
      "outputs": [
        {
          "output_type": "display_data",
          "data": {
            "text/plain": [
              "<graphviz.files.Source at 0x7f139d1b3898>"
            ],
            "image/svg+xml": "<?xml version=\"1.0\" encoding=\"UTF-8\" standalone=\"no\"?>\n<!DOCTYPE svg PUBLIC \"-//W3C//DTD SVG 1.1//EN\"\n \"http://www.w3.org/Graphics/SVG/1.1/DTD/svg11.dtd\">\n<!-- Generated by graphviz version 2.40.1 (20161225.0304)\n -->\n<!-- Title: Tree Pages: 1 -->\n<svg width=\"863pt\" height=\"581pt\"\n viewBox=\"0.00 0.00 863.00 581.00\" xmlns=\"http://www.w3.org/2000/svg\" xmlns:xlink=\"http://www.w3.org/1999/xlink\">\n<g id=\"graph0\" class=\"graph\" transform=\"scale(1 1) rotate(0) translate(4 577)\">\n<title>Tree</title>\n<polygon fill=\"#ffffff\" stroke=\"transparent\" points=\"-4,4 -4,-577 859,-577 859,4 -4,4\"/>\n<!-- 0 -->\n<g id=\"node1\" class=\"node\">\n<title>0</title>\n<polygon fill=\"#aed7f4\" stroke=\"#000000\" points=\"693,-573 523,-573 523,-505 693,-505 693,-573\"/>\n<text text-anchor=\"middle\" x=\"608\" y=\"-557.8\" font-family=\"Times,serif\" font-size=\"14.00\" fill=\"#000000\">worst perimeter &lt;= 116.25</text>\n<text text-anchor=\"middle\" x=\"608\" y=\"-542.8\" font-family=\"Times,serif\" font-size=\"14.00\" fill=\"#000000\">samples = 398</text>\n<text text-anchor=\"middle\" x=\"608\" y=\"-527.8\" font-family=\"Times,serif\" font-size=\"14.00\" fill=\"#000000\">value = [148, 250]</text>\n<text text-anchor=\"middle\" x=\"608\" y=\"-512.8\" font-family=\"Times,serif\" font-size=\"14.00\" fill=\"#000000\">class = 양성</text>\n</g>\n<!-- 1 -->\n<g id=\"node2\" class=\"node\">\n<title>1</title>\n<polygon fill=\"#4fa8e8\" stroke=\"#000000\" points=\"619,-469 431,-469 431,-401 619,-401 619,-469\"/>\n<text text-anchor=\"middle\" x=\"525\" y=\"-453.8\" font-family=\"Times,serif\" font-size=\"14.00\" fill=\"#000000\">worst concave points &lt;= 0.15</text>\n<text text-anchor=\"middle\" x=\"525\" y=\"-438.8\" font-family=\"Times,serif\" font-size=\"14.00\" fill=\"#000000\">samples = 278</text>\n<text text-anchor=\"middle\" x=\"525\" y=\"-423.8\" font-family=\"Times,serif\" font-size=\"14.00\" fill=\"#000000\">value = [28, 250]</text>\n<text text-anchor=\"middle\" x=\"525\" y=\"-408.8\" font-family=\"Times,serif\" font-size=\"14.00\" fill=\"#000000\">class = 양성</text>\n</g>\n<!-- 0&#45;&gt;1 -->\n<g id=\"edge1\" class=\"edge\">\n<title>0&#45;&gt;1</title>\n<path fill=\"none\" stroke=\"#000000\" d=\"M580.8227,-504.9465C573.7288,-496.0578 565.9985,-486.3716 558.614,-477.1188\"/>\n<polygon fill=\"#000000\" stroke=\"#000000\" points=\"561.2118,-474.7628 552.2384,-469.13 555.7406,-479.1293 561.2118,-474.7628\"/>\n<text text-anchor=\"middle\" x=\"549.4484\" y=\"-490.2738\" font-family=\"Times,serif\" font-size=\"14.00\" fill=\"#000000\">True</text>\n</g>\n<!-- 18 -->\n<g id=\"node19\" class=\"node\">\n<title>18</title>\n<polygon fill=\"#e58139\" stroke=\"#000000\" points=\"747,-461.5 637,-461.5 637,-408.5 747,-408.5 747,-461.5\"/>\n<text text-anchor=\"middle\" x=\"692\" y=\"-446.3\" font-family=\"Times,serif\" font-size=\"14.00\" fill=\"#000000\">samples = 120</text>\n<text text-anchor=\"middle\" x=\"692\" y=\"-431.3\" font-family=\"Times,serif\" font-size=\"14.00\" fill=\"#000000\">value = [120, 0]</text>\n<text text-anchor=\"middle\" x=\"692\" y=\"-416.3\" font-family=\"Times,serif\" font-size=\"14.00\" fill=\"#000000\">class = 악성</text>\n</g>\n<!-- 0&#45;&gt;18 -->\n<g id=\"edge18\" class=\"edge\">\n<title>0&#45;&gt;18</title>\n<path fill=\"none\" stroke=\"#000000\" d=\"M635.5047,-504.9465C644.6683,-493.6012 654.8811,-480.9567 664.0761,-469.5724\"/>\n<polygon fill=\"#000000\" stroke=\"#000000\" points=\"667.0015,-471.5208 670.5621,-461.5422 661.5559,-467.1224 667.0015,-471.5208\"/>\n<text text-anchor=\"middle\" x=\"673.2067\" y=\"-482.7019\" font-family=\"Times,serif\" font-size=\"14.00\" fill=\"#000000\">False</text>\n</g>\n<!-- 2 -->\n<g id=\"node3\" class=\"node\">\n<title>2</title>\n<polygon fill=\"#43a2e6\" stroke=\"#000000\" points=\"504.5,-365 369.5,-365 369.5,-297 504.5,-297 504.5,-365\"/>\n<text text-anchor=\"middle\" x=\"437\" y=\"-349.8\" font-family=\"Times,serif\" font-size=\"14.00\" fill=\"#000000\">area error &lt;= 34.405</text>\n<text text-anchor=\"middle\" x=\"437\" y=\"-334.8\" font-family=\"Times,serif\" font-size=\"14.00\" fill=\"#000000\">samples = 260</text>\n<text text-anchor=\"middle\" x=\"437\" y=\"-319.8\" font-family=\"Times,serif\" font-size=\"14.00\" fill=\"#000000\">value = [13, 247]</text>\n<text text-anchor=\"middle\" x=\"437\" y=\"-304.8\" font-family=\"Times,serif\" font-size=\"14.00\" fill=\"#000000\">class = 양성</text>\n</g>\n<!-- 1&#45;&gt;2 -->\n<g id=\"edge2\" class=\"edge\">\n<title>1&#45;&gt;2</title>\n<path fill=\"none\" stroke=\"#000000\" d=\"M496.1855,-400.9465C488.5883,-391.968 480.3026,-382.1758 472.4018,-372.8385\"/>\n<polygon fill=\"#000000\" stroke=\"#000000\" points=\"475.0105,-370.5031 465.8792,-365.13 469.6668,-375.0247 475.0105,-370.5031\"/>\n</g>\n<!-- 13 -->\n<g id=\"node14\" class=\"node\">\n<title>13</title>\n<polygon fill=\"#ea9a61\" stroke=\"#000000\" points=\"725,-365 569,-365 569,-297 725,-297 725,-365\"/>\n<text text-anchor=\"middle\" x=\"647\" y=\"-349.8\" font-family=\"Times,serif\" font-size=\"14.00\" fill=\"#000000\">worst texture &lt;= 24.335</text>\n<text text-anchor=\"middle\" x=\"647\" y=\"-334.8\" font-family=\"Times,serif\" font-size=\"14.00\" fill=\"#000000\">samples = 18</text>\n<text text-anchor=\"middle\" x=\"647\" y=\"-319.8\" font-family=\"Times,serif\" font-size=\"14.00\" fill=\"#000000\">value = [15, 3]</text>\n<text text-anchor=\"middle\" x=\"647\" y=\"-304.8\" font-family=\"Times,serif\" font-size=\"14.00\" fill=\"#000000\">class = 악성</text>\n</g>\n<!-- 1&#45;&gt;13 -->\n<g id=\"edge13\" class=\"edge\">\n<title>1&#45;&gt;13</title>\n<path fill=\"none\" stroke=\"#000000\" d=\"M564.9474,-400.9465C575.9012,-391.6088 587.8873,-381.3911 599.232,-371.7203\"/>\n<polygon fill=\"#000000\" stroke=\"#000000\" points=\"601.6233,-374.2809 606.9629,-365.13 597.0821,-368.9538 601.6233,-374.2809\"/>\n</g>\n<!-- 3 -->\n<g id=\"node4\" class=\"node\">\n<title>3</title>\n<polygon fill=\"#3c9fe5\" stroke=\"#000000\" points=\"314,-261 162,-261 162,-193 314,-193 314,-261\"/>\n<text text-anchor=\"middle\" x=\"238\" y=\"-245.8\" font-family=\"Times,serif\" font-size=\"14.00\" fill=\"#000000\">worst radius &lt;= 17.755</text>\n<text text-anchor=\"middle\" x=\"238\" y=\"-230.8\" font-family=\"Times,serif\" font-size=\"14.00\" fill=\"#000000\">samples = 238</text>\n<text text-anchor=\"middle\" x=\"238\" y=\"-215.8\" font-family=\"Times,serif\" font-size=\"14.00\" fill=\"#000000\">value = [4, 234]</text>\n<text text-anchor=\"middle\" x=\"238\" y=\"-200.8\" font-family=\"Times,serif\" font-size=\"14.00\" fill=\"#000000\">class = 양성</text>\n</g>\n<!-- 2&#45;&gt;3 -->\n<g id=\"edge3\" class=\"edge\">\n<title>2&#45;&gt;3</title>\n<path fill=\"none\" stroke=\"#000000\" d=\"M371.84,-296.9465C352.7701,-286.9803 331.782,-276.0117 312.1952,-265.7754\"/>\n<polygon fill=\"#000000\" stroke=\"#000000\" points=\"313.7902,-262.6599 303.3064,-261.13 310.548,-268.8637 313.7902,-262.6599\"/>\n</g>\n<!-- 8 -->\n<g id=\"node9\" class=\"node\">\n<title>8</title>\n<polygon fill=\"#c2e1f7\" stroke=\"#000000\" points=\"506.5,-261 367.5,-261 367.5,-193 506.5,-193 506.5,-261\"/>\n<text text-anchor=\"middle\" x=\"437\" y=\"-245.8\" font-family=\"Times,serif\" font-size=\"14.00\" fill=\"#000000\">mean area &lt;= 694.15</text>\n<text text-anchor=\"middle\" x=\"437\" y=\"-230.8\" font-family=\"Times,serif\" font-size=\"14.00\" fill=\"#000000\">samples = 22</text>\n<text text-anchor=\"middle\" x=\"437\" y=\"-215.8\" font-family=\"Times,serif\" font-size=\"14.00\" fill=\"#000000\">value = [9, 13]</text>\n<text text-anchor=\"middle\" x=\"437\" y=\"-200.8\" font-family=\"Times,serif\" font-size=\"14.00\" fill=\"#000000\">class = 양성</text>\n</g>\n<!-- 2&#45;&gt;8 -->\n<g id=\"edge8\" class=\"edge\">\n<title>2&#45;&gt;8</title>\n<path fill=\"none\" stroke=\"#000000\" d=\"M437,-296.9465C437,-288.776 437,-279.9318 437,-271.3697\"/>\n<polygon fill=\"#000000\" stroke=\"#000000\" points=\"440.5001,-271.13 437,-261.13 433.5001,-271.13 440.5001,-271.13\"/>\n</g>\n<!-- 4 -->\n<g id=\"node5\" class=\"node\">\n<title>4</title>\n<polygon fill=\"#3c9ee5\" stroke=\"#000000\" points=\"172,-157 0,-157 0,-89 172,-89 172,-157\"/>\n<text text-anchor=\"middle\" x=\"86\" y=\"-141.8\" font-family=\"Times,serif\" font-size=\"14.00\" fill=\"#000000\">smoothness error &lt;= 0.003</text>\n<text text-anchor=\"middle\" x=\"86\" y=\"-126.8\" font-family=\"Times,serif\" font-size=\"14.00\" fill=\"#000000\">samples = 237</text>\n<text text-anchor=\"middle\" x=\"86\" y=\"-111.8\" font-family=\"Times,serif\" font-size=\"14.00\" fill=\"#000000\">value = [3, 234]</text>\n<text text-anchor=\"middle\" x=\"86\" y=\"-96.8\" font-family=\"Times,serif\" font-size=\"14.00\" fill=\"#000000\">class = 양성</text>\n</g>\n<!-- 3&#45;&gt;4 -->\n<g id=\"edge4\" class=\"edge\">\n<title>3&#45;&gt;4</title>\n<path fill=\"none\" stroke=\"#000000\" d=\"M188.2295,-192.9465C174.1885,-183.3395 158.786,-172.8009 144.2932,-162.8848\"/>\n<polygon fill=\"#000000\" stroke=\"#000000\" points=\"146.1118,-159.8883 135.8823,-157.13 142.159,-165.6655 146.1118,-159.8883\"/>\n</g>\n<!-- 7 -->\n<g id=\"node8\" class=\"node\">\n<title>7</title>\n<polygon fill=\"#e58139\" stroke=\"#000000\" points=\"285.5,-149.5 190.5,-149.5 190.5,-96.5 285.5,-96.5 285.5,-149.5\"/>\n<text text-anchor=\"middle\" x=\"238\" y=\"-134.3\" font-family=\"Times,serif\" font-size=\"14.00\" fill=\"#000000\">samples = 1</text>\n<text text-anchor=\"middle\" x=\"238\" y=\"-119.3\" font-family=\"Times,serif\" font-size=\"14.00\" fill=\"#000000\">value = [1, 0]</text>\n<text text-anchor=\"middle\" x=\"238\" y=\"-104.3\" font-family=\"Times,serif\" font-size=\"14.00\" fill=\"#000000\">class = 악성</text>\n</g>\n<!-- 3&#45;&gt;7 -->\n<g id=\"edge7\" class=\"edge\">\n<title>3&#45;&gt;7</title>\n<path fill=\"none\" stroke=\"#000000\" d=\"M238,-192.9465C238,-182.2621 238,-170.4254 238,-159.5742\"/>\n<polygon fill=\"#000000\" stroke=\"#000000\" points=\"241.5001,-159.5421 238,-149.5422 234.5001,-159.5422 241.5001,-159.5421\"/>\n</g>\n<!-- 5 -->\n<g id=\"node6\" class=\"node\">\n<title>5</title>\n<polygon fill=\"#7bbeee\" stroke=\"#000000\" points=\"102.5,-53 7.5,-53 7.5,0 102.5,0 102.5,-53\"/>\n<text text-anchor=\"middle\" x=\"55\" y=\"-37.8\" font-family=\"Times,serif\" font-size=\"14.00\" fill=\"#000000\">samples = 4</text>\n<text text-anchor=\"middle\" x=\"55\" y=\"-22.8\" font-family=\"Times,serif\" font-size=\"14.00\" fill=\"#000000\">value = [1, 3]</text>\n<text text-anchor=\"middle\" x=\"55\" y=\"-7.8\" font-family=\"Times,serif\" font-size=\"14.00\" fill=\"#000000\">class = 양성</text>\n</g>\n<!-- 4&#45;&gt;5 -->\n<g id=\"edge5\" class=\"edge\">\n<title>4&#45;&gt;5</title>\n<path fill=\"none\" stroke=\"#000000\" d=\"M75.0706,-88.9777C72.3643,-80.5533 69.4538,-71.4934 66.7119,-62.9579\"/>\n<polygon fill=\"#000000\" stroke=\"#000000\" points=\"69.9836,-61.6988 63.5928,-53.2485 63.3191,-63.8398 69.9836,-61.6988\"/>\n</g>\n<!-- 6 -->\n<g id=\"node7\" class=\"node\">\n<title>6</title>\n<polygon fill=\"#3b9ee5\" stroke=\"#000000\" points=\"231,-53 121,-53 121,0 231,0 231,-53\"/>\n<text text-anchor=\"middle\" x=\"176\" y=\"-37.8\" font-family=\"Times,serif\" font-size=\"14.00\" fill=\"#000000\">samples = 233</text>\n<text text-anchor=\"middle\" x=\"176\" y=\"-22.8\" font-family=\"Times,serif\" font-size=\"14.00\" fill=\"#000000\">value = [2, 231]</text>\n<text text-anchor=\"middle\" x=\"176\" y=\"-7.8\" font-family=\"Times,serif\" font-size=\"14.00\" fill=\"#000000\">class = 양성</text>\n</g>\n<!-- 4&#45;&gt;6 -->\n<g id=\"edge6\" class=\"edge\">\n<title>4&#45;&gt;6</title>\n<path fill=\"none\" stroke=\"#000000\" d=\"M117.7306,-88.9777C126.2708,-79.8207 135.5113,-69.9129 144.0626,-60.744\"/>\n<polygon fill=\"#000000\" stroke=\"#000000\" points=\"146.7923,-62.9488 151.0532,-53.2485 141.6731,-58.1744 146.7923,-62.9488\"/>\n</g>\n<!-- 9 -->\n<g id=\"node10\" class=\"node\">\n<title>9</title>\n<polygon fill=\"#76bbed\" stroke=\"#000000\" points=\"468.5,-157 303.5,-157 303.5,-89 468.5,-89 468.5,-157\"/>\n<text text-anchor=\"middle\" x=\"386\" y=\"-141.8\" font-family=\"Times,serif\" font-size=\"14.00\" fill=\"#000000\">worst concavity &lt;= 0.289</text>\n<text text-anchor=\"middle\" x=\"386\" y=\"-126.8\" font-family=\"Times,serif\" font-size=\"14.00\" fill=\"#000000\">samples = 17</text>\n<text text-anchor=\"middle\" x=\"386\" y=\"-111.8\" font-family=\"Times,serif\" font-size=\"14.00\" fill=\"#000000\">value = [4, 13]</text>\n<text text-anchor=\"middle\" x=\"386\" y=\"-96.8\" font-family=\"Times,serif\" font-size=\"14.00\" fill=\"#000000\">class = 양성</text>\n</g>\n<!-- 8&#45;&gt;9 -->\n<g id=\"edge9\" class=\"edge\">\n<title>8&#45;&gt;9</title>\n<path fill=\"none\" stroke=\"#000000\" d=\"M420.3007,-192.9465C416.1179,-184.4169 411.575,-175.153 407.2054,-166.2424\"/>\n<polygon fill=\"#000000\" stroke=\"#000000\" points=\"410.2823,-164.5675 402.7368,-157.13 403.9973,-167.6496 410.2823,-164.5675\"/>\n</g>\n<!-- 12 -->\n<g id=\"node13\" class=\"node\">\n<title>12</title>\n<polygon fill=\"#e58139\" stroke=\"#000000\" points=\"581.5,-149.5 486.5,-149.5 486.5,-96.5 581.5,-96.5 581.5,-149.5\"/>\n<text text-anchor=\"middle\" x=\"534\" y=\"-134.3\" font-family=\"Times,serif\" font-size=\"14.00\" fill=\"#000000\">samples = 5</text>\n<text text-anchor=\"middle\" x=\"534\" y=\"-119.3\" font-family=\"Times,serif\" font-size=\"14.00\" fill=\"#000000\">value = [5, 0]</text>\n<text text-anchor=\"middle\" x=\"534\" y=\"-104.3\" font-family=\"Times,serif\" font-size=\"14.00\" fill=\"#000000\">class = 악성</text>\n</g>\n<!-- 8&#45;&gt;12 -->\n<g id=\"edge12\" class=\"edge\">\n<title>8&#45;&gt;12</title>\n<path fill=\"none\" stroke=\"#000000\" d=\"M468.7614,-192.9465C479.5486,-181.3809 491.595,-168.4652 502.3718,-156.9107\"/>\n<polygon fill=\"#000000\" stroke=\"#000000\" points=\"504.9831,-159.2423 509.2443,-149.5422 499.8641,-154.4678 504.9831,-159.2423\"/>\n</g>\n<!-- 10 -->\n<g id=\"node11\" class=\"node\">\n<title>10</title>\n<polygon fill=\"#399de5\" stroke=\"#000000\" points=\"394,-53 292,-53 292,0 394,0 394,-53\"/>\n<text text-anchor=\"middle\" x=\"343\" y=\"-37.8\" font-family=\"Times,serif\" font-size=\"14.00\" fill=\"#000000\">samples = 12</text>\n<text text-anchor=\"middle\" x=\"343\" y=\"-22.8\" font-family=\"Times,serif\" font-size=\"14.00\" fill=\"#000000\">value = [0, 12]</text>\n<text text-anchor=\"middle\" x=\"343\" y=\"-7.8\" font-family=\"Times,serif\" font-size=\"14.00\" fill=\"#000000\">class = 양성</text>\n</g>\n<!-- 9&#45;&gt;10 -->\n<g id=\"edge10\" class=\"edge\">\n<title>9&#45;&gt;10</title>\n<path fill=\"none\" stroke=\"#000000\" d=\"M370.8398,-88.9777C367.0043,-80.3702 362.8732,-71.0992 358.9978,-62.402\"/>\n<polygon fill=\"#000000\" stroke=\"#000000\" points=\"362.1862,-60.9581 354.919,-53.2485 355.7923,-63.8073 362.1862,-60.9581\"/>\n</g>\n<!-- 11 -->\n<g id=\"node12\" class=\"node\">\n<title>11</title>\n<polygon fill=\"#eca06a\" stroke=\"#000000\" points=\"507.5,-53 412.5,-53 412.5,0 507.5,0 507.5,-53\"/>\n<text text-anchor=\"middle\" x=\"460\" y=\"-37.8\" font-family=\"Times,serif\" font-size=\"14.00\" fill=\"#000000\">samples = 5</text>\n<text text-anchor=\"middle\" x=\"460\" y=\"-22.8\" font-family=\"Times,serif\" font-size=\"14.00\" fill=\"#000000\">value = [4, 1]</text>\n<text text-anchor=\"middle\" x=\"460\" y=\"-7.8\" font-family=\"Times,serif\" font-size=\"14.00\" fill=\"#000000\">class = 악성</text>\n</g>\n<!-- 9&#45;&gt;11 -->\n<g id=\"edge11\" class=\"edge\">\n<title>9&#45;&gt;11</title>\n<path fill=\"none\" stroke=\"#000000\" d=\"M412.0896,-88.9777C418.9711,-80.0039 426.4056,-70.3089 433.3178,-61.295\"/>\n<polygon fill=\"#000000\" stroke=\"#000000\" points=\"436.1804,-63.3137 439.4882,-53.2485 430.6256,-59.0541 436.1804,-63.3137\"/>\n</g>\n<!-- 14 -->\n<g id=\"node15\" class=\"node\">\n<title>14</title>\n<polygon fill=\"#7bbeee\" stroke=\"#000000\" points=\"735,-261 559,-261 559,-193 735,-193 735,-261\"/>\n<text text-anchor=\"middle\" x=\"647\" y=\"-245.8\" font-family=\"Times,serif\" font-size=\"14.00\" fill=\"#000000\">worst smoothness &lt;= 0.167</text>\n<text text-anchor=\"middle\" x=\"647\" y=\"-230.8\" font-family=\"Times,serif\" font-size=\"14.00\" fill=\"#000000\">samples = 4</text>\n<text text-anchor=\"middle\" x=\"647\" y=\"-215.8\" font-family=\"Times,serif\" font-size=\"14.00\" fill=\"#000000\">value = [1, 3]</text>\n<text text-anchor=\"middle\" x=\"647\" y=\"-200.8\" font-family=\"Times,serif\" font-size=\"14.00\" fill=\"#000000\">class = 양성</text>\n</g>\n<!-- 13&#45;&gt;14 -->\n<g id=\"edge14\" class=\"edge\">\n<title>13&#45;&gt;14</title>\n<path fill=\"none\" stroke=\"#000000\" d=\"M647,-296.9465C647,-288.776 647,-279.9318 647,-271.3697\"/>\n<polygon fill=\"#000000\" stroke=\"#000000\" points=\"650.5001,-271.13 647,-261.13 643.5001,-271.13 650.5001,-271.13\"/>\n</g>\n<!-- 17 -->\n<g id=\"node18\" class=\"node\">\n<title>17</title>\n<polygon fill=\"#e58139\" stroke=\"#000000\" points=\"855,-253.5 753,-253.5 753,-200.5 855,-200.5 855,-253.5\"/>\n<text text-anchor=\"middle\" x=\"804\" y=\"-238.3\" font-family=\"Times,serif\" font-size=\"14.00\" fill=\"#000000\">samples = 14</text>\n<text text-anchor=\"middle\" x=\"804\" y=\"-223.3\" font-family=\"Times,serif\" font-size=\"14.00\" fill=\"#000000\">value = [14, 0]</text>\n<text text-anchor=\"middle\" x=\"804\" y=\"-208.3\" font-family=\"Times,serif\" font-size=\"14.00\" fill=\"#000000\">class = 악성</text>\n</g>\n<!-- 13&#45;&gt;17 -->\n<g id=\"edge17\" class=\"edge\">\n<title>13&#45;&gt;17</title>\n<path fill=\"none\" stroke=\"#000000\" d=\"M698.4077,-296.9465C716.6988,-284.8301 737.2266,-271.232 755.2853,-259.2696\"/>\n<polygon fill=\"#000000\" stroke=\"#000000\" points=\"757.5276,-261.9826 763.9315,-253.5422 753.6618,-256.1468 757.5276,-261.9826\"/>\n</g>\n<!-- 15 -->\n<g id=\"node16\" class=\"node\">\n<title>15</title>\n<polygon fill=\"#399de5\" stroke=\"#000000\" points=\"694.5,-149.5 599.5,-149.5 599.5,-96.5 694.5,-96.5 694.5,-149.5\"/>\n<text text-anchor=\"middle\" x=\"647\" y=\"-134.3\" font-family=\"Times,serif\" font-size=\"14.00\" fill=\"#000000\">samples = 3</text>\n<text text-anchor=\"middle\" x=\"647\" y=\"-119.3\" font-family=\"Times,serif\" font-size=\"14.00\" fill=\"#000000\">value = [0, 3]</text>\n<text text-anchor=\"middle\" x=\"647\" y=\"-104.3\" font-family=\"Times,serif\" font-size=\"14.00\" fill=\"#000000\">class = 양성</text>\n</g>\n<!-- 14&#45;&gt;15 -->\n<g id=\"edge15\" class=\"edge\">\n<title>14&#45;&gt;15</title>\n<path fill=\"none\" stroke=\"#000000\" d=\"M647,-192.9465C647,-182.2621 647,-170.4254 647,-159.5742\"/>\n<polygon fill=\"#000000\" stroke=\"#000000\" points=\"650.5001,-159.5421 647,-149.5422 643.5001,-159.5422 650.5001,-159.5421\"/>\n</g>\n<!-- 16 -->\n<g id=\"node17\" class=\"node\">\n<title>16</title>\n<polygon fill=\"#e58139\" stroke=\"#000000\" points=\"807.5,-149.5 712.5,-149.5 712.5,-96.5 807.5,-96.5 807.5,-149.5\"/>\n<text text-anchor=\"middle\" x=\"760\" y=\"-134.3\" font-family=\"Times,serif\" font-size=\"14.00\" fill=\"#000000\">samples = 1</text>\n<text text-anchor=\"middle\" x=\"760\" y=\"-119.3\" font-family=\"Times,serif\" font-size=\"14.00\" fill=\"#000000\">value = [1, 0]</text>\n<text text-anchor=\"middle\" x=\"760\" y=\"-104.3\" font-family=\"Times,serif\" font-size=\"14.00\" fill=\"#000000\">class = 악성</text>\n</g>\n<!-- 14&#45;&gt;16 -->\n<g id=\"edge16\" class=\"edge\">\n<title>14&#45;&gt;16</title>\n<path fill=\"none\" stroke=\"#000000\" d=\"M684.0004,-192.9465C696.6866,-181.2707 710.8678,-168.219 723.513,-156.5809\"/>\n<polygon fill=\"#000000\" stroke=\"#000000\" points=\"726.1731,-158.8895 731.1609,-149.5422 721.4327,-153.7389 726.1731,-158.8895\"/>\n</g>\n</g>\n</svg>\n"
          },
          "metadata": {
            "tags": []
          }
        }
      ]
    },
    {
      "cell_type": "code",
      "metadata": {
        "id": "8SQ4CIY_UAfy",
        "colab_type": "code",
        "colab": {
          "base_uri": "https://localhost:8080/",
          "height": 1000
        },
        "outputId": "fc399386-1e4d-430e-c2b5-727b56a2b3aa"
      },
      "source": [
        "# 파라미터 중요도 시각화\n",
        "import matplotlib.pyplot as plt\n",
        "import numpy as np\n",
        "\n",
        "n_features = len(cancer.feature_names)\n",
        "plt.barh(np.arange(n_features), tree.feature_importances_, align='center')\n",
        "plt.yticks(np.arange(n_features), cancer.feature_names)"
      ],
      "execution_count": 19,
      "outputs": [
        {
          "output_type": "execute_result",
          "data": {
            "text/plain": [
              "([<matplotlib.axis.YTick at 0x7f139d12c160>,\n",
              "  <matplotlib.axis.YTick at 0x7f139d1cd6a0>,\n",
              "  <matplotlib.axis.YTick at 0x7f13c31f0c50>,\n",
              "  <matplotlib.axis.YTick at 0x7f139d0f8dd8>,\n",
              "  <matplotlib.axis.YTick at 0x7f139d10d2b0>,\n",
              "  <matplotlib.axis.YTick at 0x7f139d10d748>,\n",
              "  <matplotlib.axis.YTick at 0x7f139d10dbe0>,\n",
              "  <matplotlib.axis.YTick at 0x7f139d114128>,\n",
              "  <matplotlib.axis.YTick at 0x7f139d114550>,\n",
              "  <matplotlib.axis.YTick at 0x7f139d1149e8>,\n",
              "  <matplotlib.axis.YTick at 0x7f139d114e80>,\n",
              "  <matplotlib.axis.YTick at 0x7f139d1146a0>,\n",
              "  <matplotlib.axis.YTick at 0x7f139d10db38>,\n",
              "  <matplotlib.axis.YTick at 0x7f139d10d128>,\n",
              "  <matplotlib.axis.YTick at 0x7f139d05c6a0>,\n",
              "  <matplotlib.axis.YTick at 0x7f139d05cb38>,\n",
              "  <matplotlib.axis.YTick at 0x7f139d05cd68>,\n",
              "  <matplotlib.axis.YTick at 0x7f139d0654a8>,\n",
              "  <matplotlib.axis.YTick at 0x7f139d065940>,\n",
              "  <matplotlib.axis.YTick at 0x7f139d065dd8>,\n",
              "  <matplotlib.axis.YTick at 0x7f139d06c2b0>,\n",
              "  <matplotlib.axis.YTick at 0x7f139d0657b8>,\n",
              "  <matplotlib.axis.YTick at 0x7f139d10dd30>,\n",
              "  <matplotlib.axis.YTick at 0x7f139d05c358>,\n",
              "  <matplotlib.axis.YTick at 0x7f139d128b70>,\n",
              "  <matplotlib.axis.YTick at 0x7f139d1284a8>,\n",
              "  <matplotlib.axis.YTick at 0x7f139d06c358>,\n",
              "  <matplotlib.axis.YTick at 0x7f139d06cbe0>,\n",
              "  <matplotlib.axis.YTick at 0x7f139d077128>,\n",
              "  <matplotlib.axis.YTick at 0x7f139d077550>],\n",
              " [Text(0, 0, 'mean radius'),\n",
              "  Text(0, 0, 'mean texture'),\n",
              "  Text(0, 0, 'mean perimeter'),\n",
              "  Text(0, 0, 'mean area'),\n",
              "  Text(0, 0, 'mean smoothness'),\n",
              "  Text(0, 0, 'mean compactness'),\n",
              "  Text(0, 0, 'mean concavity'),\n",
              "  Text(0, 0, 'mean concave points'),\n",
              "  Text(0, 0, 'mean symmetry'),\n",
              "  Text(0, 0, 'mean fractal dimension'),\n",
              "  Text(0, 0, 'radius error'),\n",
              "  Text(0, 0, 'texture error'),\n",
              "  Text(0, 0, 'perimeter error'),\n",
              "  Text(0, 0, 'area error'),\n",
              "  Text(0, 0, 'smoothness error'),\n",
              "  Text(0, 0, 'compactness error'),\n",
              "  Text(0, 0, 'concavity error'),\n",
              "  Text(0, 0, 'concave points error'),\n",
              "  Text(0, 0, 'symmetry error'),\n",
              "  Text(0, 0, 'fractal dimension error'),\n",
              "  Text(0, 0, 'worst radius'),\n",
              "  Text(0, 0, 'worst texture'),\n",
              "  Text(0, 0, 'worst perimeter'),\n",
              "  Text(0, 0, 'worst area'),\n",
              "  Text(0, 0, 'worst smoothness'),\n",
              "  Text(0, 0, 'worst compactness'),\n",
              "  Text(0, 0, 'worst concavity'),\n",
              "  Text(0, 0, 'worst concave points'),\n",
              "  Text(0, 0, 'worst symmetry'),\n",
              "  Text(0, 0, 'worst fractal dimension')])"
            ]
          },
          "metadata": {
            "tags": []
          },
          "execution_count": 19
        },
        {
          "output_type": "display_data",
          "data": {
            "image/png": "[encoded data removed]",
            "text/plain": [
              "<Figure size 432x288 with 1 Axes>"
            ]
          },
          "metadata": {
            "tags": [],
            "needs_background": "light"
          }
        }
      ]
    },
    {
      "cell_type": "code",
      "metadata": {
        "id": "u4VDQ4W_UZNR",
        "colab_type": "code",
        "colab": {}
      },
      "source": [
        ""
      ],
      "execution_count": null,
      "outputs": []
    }
  ]
}