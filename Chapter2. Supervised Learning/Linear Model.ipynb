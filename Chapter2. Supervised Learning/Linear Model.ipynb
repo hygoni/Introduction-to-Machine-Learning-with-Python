{
 "cells": [
  {
   "cell_type": "code",
   "execution_count": 4,
   "metadata": {},
   "outputs": [],
   "source": [
    "import matplotlib.pyplot as plt\n",
    "import mglearn"
   ]
  },
  {
   "cell_type": "code",
   "execution_count": 10,
   "metadata": {},
   "outputs": [],
   "source": [
    "from sklearn.model_selection import train_test_split\n",
    "from sklearn.linear_model import LinearRegression\n",
    "X, y = mglearn.datasets.make_wave(n_samples = 40)\n",
    "X_train, X_test, Y_train, Y_test = train_test_split(X, y)\n",
    "\n",
    "lr = LinearRegression().fit(X_train, Y_train)"
   ]
  },
  {
   "cell_type": "code",
   "execution_count": 12,
   "metadata": {},
   "outputs": [
    {
     "name": "stdout",
     "output_type": "stream",
     "text": [
      "[0.50934688]\n",
      "-0.1338310862811695\n"
     ]
    }
   ],
   "source": [
    "print(lr.coef_)\n",
    "print(lr.intercept_)"
   ]
  },
  {
   "cell_type": "code",
   "execution_count": 13,
   "metadata": {},
   "outputs": [
    {
     "name": "stdout",
     "output_type": "stream",
     "text": [
      "0.5845690268258579\n",
      "0.6992982539665888\n"
     ]
    }
   ],
   "source": [
    "print(lr.score(X_test, Y_test))\n",
    "print(lr.score(X_train, Y_train))"
   ]
  },
  {
   "cell_type": "code",
   "execution_count": 242,
   "metadata": {},
   "outputs": [
    {
     "name": "stdout",
     "output_type": "stream",
     "text": [
      "0.9342342973705089\n",
      "0.8444625548828754\n",
      "0.7534584406821512\n",
      "0.7517592757812643\n"
     ]
    }
   ],
   "source": [
    "from random import randint\n",
    "X, y = mglearn.datasets.load_extended_boston()\n",
    "X_train, X_test, Y_train, Y_test = train_test_split(X, y, random_state=randint(1, 100))\n",
    "lr = LinearRegression().fit(X_train, Y_train)\n",
    "print(lr.score(X_train, Y_train))\n",
    "print(lr.score(X_test, Y_test))\n",
    "\n",
    "# Ridge\n",
    "from sklearn.linear_model import Ridge\n",
    "ridge = Ridge(alpha=10).fit(X_train, Y_train)\n",
    "print(ridge.score(X_train, Y_train))\n",
    "print(ridge.score(X_test, Y_test))"
   ]
  }
 ],
 "metadata": {
  "kernelspec": {
   "display_name": "Python 3",
   "language": "python",
   "name": "python3"
  },
  "language_info": {
   "codemirror_mode": {
    "name": "ipython",
    "version": 3
   },
   "file_extension": ".py",
   "mimetype": "text/x-python",
   "name": "python",
   "nbconvert_exporter": "python",
   "pygments_lexer": "ipython3",
   "version": "3.7.6"
  }
 },
 "nbformat": 4,
 "nbformat_minor": 4
}
